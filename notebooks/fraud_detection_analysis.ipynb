{
 "cells": [
  {
   "cell_type": "markdown",
   "source": [
    "# Fraud Detection Analysis\n",
    "## Data Loading and Preprocessing\n",
    "```python\n",
    "import pandas as pd\n",
    "from src.preprocess import load_data, preprocess_fraud_data, preprocess_credit_data\n",
    "\n",
    "fraud_data, ip_data, credit_data = load_data()\n",
    "fraud_data = preprocess_fraud_data(fraud_data, ip_data)\n",
    "credit_data = preprocess_credit_data(credit_data)\n",
    "```"
   ]
  },
  {
   "cell_type": "markdown",
   "source": [
    "## Exploratory Data Analysis\n",
    "```python\n",
    "import seaborn as sns\n",
    "import matplotlib.pyplot as plt\n",
    "\n",
    "# Distribution of purchase_value\n",
    "sns.histplot(fraud_data['purchase_value'], kde=True)\n",
    "plt.title('Purchase Value Distribution')\n",
    "plt.savefig('purchase_value_dist.png')\n",
    "plt.show()\n",
    "\n",
    "# Fraud vs. Non-Fraud\n",
    "sns.boxplot(x='class', y='time_since_signup', data=fraud_data)\n",
    "plt.title('Time Since Signup by Class')\n",
    "plt.savefig('time_since_signup_boxplot.png')\n",
    "plt.show()\n",
    "```"
   ]
  },
  {
   "cell_type": "markdown",
   "source": [
    "## Model Training\n",
    "```python\n",
    "from src.model import train_and_evaluate\n",
    "\n",
    "X_fraud = fraud_data.drop('class', axis=1)\n",
    "y_fraud = fraud_data['class']\n",
    "train_and_evaluate(X_fraud, y_fraud, 'Fraud_Data')\n",
    "\n",
    "X_credit = credit_data.drop('Class', axis=1)\n",
    "y_credit = credit_data['Class']\n",
    "train_and_evaluate(X_credit, y_credit, 'Credit_Data')\n",
    "```"
   ]
  }
 ],
 "metadata": {
  "kernelspec": {
   "display_name": "Python 3",
   "language": "python",
   "name": "python3"
  }
 }
}
