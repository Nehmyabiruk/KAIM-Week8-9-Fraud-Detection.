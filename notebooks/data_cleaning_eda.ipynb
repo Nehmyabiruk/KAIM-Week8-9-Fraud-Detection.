{
 "cells": [
  {
   "cell_type": "code",
   "execution_count": null,
   "metadata": {},
   "outputs": [],
   "source": [
    "import pandas as pd\n",
    "import matplotlib.pyplot as plt\n",
    "import seaborn as sns\n",
    "\n",
    "# Load datasets\n",
    "fraud_data = pd.read_csv('data/Fraud_Data.csv')\n",
    "creditcard_data = pd.read_csv('data/creditcard.csv')\n",
    "ip_data = pd.read_csv('data/IpAddress_to_Country.csv')\n",
    "\n",
    "# Data Cleaning: Fraud_Data.csv\n",
    "print('Missing Values:\\n', fraud_data.isnull().sum())\n",
    "fraud_data = fraud_data.drop_duplicates()\n",
    "fraud_data['signup_time'] = pd.to_datetime(fraud_data['signup_time'])\n",
    "fraud_data['purchase_time'] = pd.to_datetime(fraud_data['purchase_time'])\n",
    "\n",
    "# EDA: Class Distribution\n",
    "fraud_counts = fraud_data['class'].value_counts(normalize=True) * 100\n",
    "print(f'Class Distribution (%): Fraud = {fraud_counts[1]:.1f}%, Non-Fraud = {fraud_counts[0]:.1f}%')\n",
    "plt.figure(figsize=(6, 4))\n",
    "sns.countplot(x='class', data=fraud_data)\n",
    "plt.title('Class Distribution in Fraud_Data.csv (5% Fraud, 95% Non-Fraud)')\n",
    "plt.show()\n",
    "\n",
    "# EDA: Purchase Value vs. Class\n",
    "plt.figure(figsize=(8, 5))\n",
    "sns.boxplot(x='class', y='purchase_value', data=fraud_data)\n",
    "plt.title('Purchase Value vs. Fraud Class')\n",
    "plt.show()"
   ]
  }
 ],
 "metadata": {
  "kernelspec": {
   "display_name": "Python 3",
   "language": "python",
   "name": "python3"
  },
  "language_info": {
   "codemirror_mode": {
    "name": "ipython",
    "version": 3
   },
   "file_extension": ".py",
   "mimetype": "text/x-python",
   "name": "python",
   "nbconvert_exporter": "python",
   "pygments_lexer": "ipython3",
   "version": "3.8.0"
  }
 },
 "nbformat": 4,
 "nbformat_minor": 4
}
