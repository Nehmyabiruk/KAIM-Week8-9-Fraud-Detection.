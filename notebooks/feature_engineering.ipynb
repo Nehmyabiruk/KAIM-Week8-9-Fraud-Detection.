{
 "cells": [
  {
   "cell_type": "code",
   "execution_count": null,
   "metadata": {},
   "outputs": [],
   "source": [
    "import pandas as pd\n",
    "\n",
    "# Load datasets\n",
    "fraud_data = pd.read_csv('data/Fraud_Data.csv')\n",
    "ip_data = pd.read_csv('data/IpAddress_to_Country.csv')\n",
    "\n",
    "# Feature Engineering: Time-Based Features\n",
    "fraud_data['signup_time'] = pd.to_datetime(fraud_data['signup_time'])\n",
    "fraud_data['purchase_time'] = pd.to_datetime(fraud_data['purchase_time'])\n",
    "fraud_data['time_since_signup'] = (fraud_data['purchase_time'] - fraud_data['signup_time']).dt.total_seconds() / 3600\n",
    "fraud_data['hour_of_day'] = fraud_data['purchase_time'].dt.hour\n",
    "fraud_data['day_of_week'] = fraud_data['purchase_time'].dt.dayofweek\n",
    "\n",
    "# Transaction Frequency and Velocity\n",
    "fraud_data['transaction_count'] = fraud_data.groupby('user_id')['user_id'].transform('count')\n",
    "fraud_data['transaction_velocity'] = fraud_data.groupby('user_id')['purchase_time'].diff().dt.total_seconds() / 3600\n",
    "\n",
    "# Geolocation: Merge with IP data\n",
    "fraud_data['ip_address'] = fraud_data['ip_address'].astype(int)\n",
    "ip_data['lower_bound_ip_address'] = ip_data['lower_bound_ip_address'].astype(int)\n",
    "ip_data['upper_bound_ip_address'] = ip_data['upper_bound_ip_address'].astype(int)\n",
    "fraud_data = fraud_data.merge(ip_data, how='left', left_on='ip_address', right_on=lambda x: (fraud_data['ip_address'].between(ip_data['lower_bound_ip_address'], ip_data['upper_bound_ip_address'])))\n",
    "\n",
    "# Categorical Encoding\n",
    "fraud_data = pd.get_dummies(fraud_data, columns=['source', 'browser', 'sex'], drop_first=True)\n",
    "\n",
    "# Save processed data\n",
    "fraud_data.to_csv('data/processed_fraud_data.csv', index=False)"
   ]
  }
 ],
 "metadata": {
  "kernelspec": {
   "display_name": "Python 3",
   "language": "python",
   "name": "python3"
  },
  "language_info": {
   "codemirror_mode": {
    "name": "ipython",
    "version": 3
   },
   "file_extension": ".py",
   "mimetype": "text/x-python",
   "name": "python",
   "nbconvert_exporter": "python",
   "pygments_lexer": "ipython3",
   "version": "3.8.0"
  }
 },
 "nbformat": 4,
 "nbformat_minor": 4
}
